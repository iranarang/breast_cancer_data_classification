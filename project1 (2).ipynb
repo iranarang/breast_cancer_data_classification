{
 "cells": [
  {
   "cell_type": "code",
   "execution_count": 1207,
   "id": "2bc9c6fd-5acf-4a21-b502-48551a731c85",
   "metadata": {},
   "outputs": [
    {
     "data": {
      "text/html": [
       "<div>\n",
       "<style scoped>\n",
       "    .dataframe tbody tr th:only-of-type {\n",
       "        vertical-align: middle;\n",
       "    }\n",
       "\n",
       "    .dataframe tbody tr th {\n",
       "        vertical-align: top;\n",
       "    }\n",
       "\n",
       "    .dataframe thead th {\n",
       "        text-align: right;\n",
       "    }\n",
       "</style>\n",
       "<table border=\"1\" class=\"dataframe\">\n",
       "  <thead>\n",
       "    <tr style=\"text-align: right;\">\n",
       "      <th></th>\n",
       "      <th>class</th>\n",
       "      <th>age</th>\n",
       "      <th>menopause</th>\n",
       "      <th>tumor-size</th>\n",
       "      <th>inv-nodes</th>\n",
       "      <th>node-caps</th>\n",
       "      <th>deg-malig</th>\n",
       "      <th>breast</th>\n",
       "      <th>breast-quad</th>\n",
       "      <th>irradiat</th>\n",
       "    </tr>\n",
       "  </thead>\n",
       "  <tbody>\n",
       "    <tr>\n",
       "      <th>0</th>\n",
       "      <td>recurrence-events</td>\n",
       "      <td>30-39</td>\n",
       "      <td>premeno</td>\n",
       "      <td>30-34</td>\n",
       "      <td>0-2</td>\n",
       "      <td>no</td>\n",
       "      <td>3</td>\n",
       "      <td>left</td>\n",
       "      <td>left_low</td>\n",
       "      <td>no</td>\n",
       "    </tr>\n",
       "    <tr>\n",
       "      <th>1</th>\n",
       "      <td>no-recurrence-events</td>\n",
       "      <td>40-49</td>\n",
       "      <td>premeno</td>\n",
       "      <td>20-24</td>\n",
       "      <td>0-2</td>\n",
       "      <td>no</td>\n",
       "      <td>2</td>\n",
       "      <td>right</td>\n",
       "      <td>right_up</td>\n",
       "      <td>no</td>\n",
       "    </tr>\n",
       "    <tr>\n",
       "      <th>2</th>\n",
       "      <td>recurrence-events</td>\n",
       "      <td>40-49</td>\n",
       "      <td>premeno</td>\n",
       "      <td>20-24</td>\n",
       "      <td>0-2</td>\n",
       "      <td>no</td>\n",
       "      <td>2</td>\n",
       "      <td>left</td>\n",
       "      <td>left_low</td>\n",
       "      <td>no</td>\n",
       "    </tr>\n",
       "    <tr>\n",
       "      <th>3</th>\n",
       "      <td>no-recurrence-events</td>\n",
       "      <td>60-69</td>\n",
       "      <td>ge40</td>\n",
       "      <td>15-19</td>\n",
       "      <td>0-2</td>\n",
       "      <td>no</td>\n",
       "      <td>2</td>\n",
       "      <td>right</td>\n",
       "      <td>left_up</td>\n",
       "      <td>no</td>\n",
       "    </tr>\n",
       "    <tr>\n",
       "      <th>4</th>\n",
       "      <td>no-recurrence-events</td>\n",
       "      <td>40-49</td>\n",
       "      <td>premeno</td>\n",
       "      <td>0-4</td>\n",
       "      <td>0-2</td>\n",
       "      <td>no</td>\n",
       "      <td>2</td>\n",
       "      <td>right</td>\n",
       "      <td>right_low</td>\n",
       "      <td>no</td>\n",
       "    </tr>\n",
       "  </tbody>\n",
       "</table>\n",
       "</div>"
      ],
      "text/plain": [
       "                  class    age menopause tumor-size inv-nodes node-caps  \\\n",
       "0     recurrence-events  30-39   premeno      30-34       0-2        no   \n",
       "1  no-recurrence-events  40-49   premeno      20-24       0-2        no   \n",
       "2     recurrence-events  40-49   premeno      20-24       0-2        no   \n",
       "3  no-recurrence-events  60-69      ge40      15-19       0-2        no   \n",
       "4  no-recurrence-events  40-49   premeno        0-4       0-2        no   \n",
       "\n",
       "   deg-malig breast breast-quad irradiat  \n",
       "0          3   left    left_low       no  \n",
       "1          2  right    right_up       no  \n",
       "2          2   left    left_low       no  \n",
       "3          2  right     left_up       no  \n",
       "4          2  right   right_low       no  "
      ]
     },
     "execution_count": 1207,
     "metadata": {},
     "output_type": "execute_result"
    }
   ],
   "source": [
    "import pandas as pd\n",
    "data = pd.read_csv('breast_cancer_data.csv')\n",
    "data.head()"
   ]
  },
  {
   "cell_type": "code",
   "execution_count": 1208,
   "id": "f8d1e771-27c4-4337-be85-c49a8aea2de8",
   "metadata": {},
   "outputs": [
    {
     "data": {
      "text/plain": [
       "(386, 10)"
      ]
     },
     "execution_count": 1208,
     "metadata": {},
     "output_type": "execute_result"
    }
   ],
   "source": [
    "data.shape"
   ]
  },
  {
   "cell_type": "code",
   "execution_count": 1209,
   "id": "d9d0e1e9-df28-4dce-b281-711cbd499751",
   "metadata": {},
   "outputs": [
    {
     "data": {
      "text/plain": [
       "3860"
      ]
     },
     "execution_count": 1209,
     "metadata": {},
     "output_type": "execute_result"
    }
   ],
   "source": [
    "data.size"
   ]
  },
  {
   "cell_type": "code",
   "execution_count": 1210,
   "id": "44601f30-c303-41bc-8cca-8ab20ec70706",
   "metadata": {},
   "outputs": [
    {
     "name": "stdout",
     "output_type": "stream",
     "text": [
      "<class 'pandas.core.frame.DataFrame'>\n",
      "RangeIndex: 386 entries, 0 to 385\n",
      "Data columns (total 10 columns):\n",
      " #   Column       Non-Null Count  Dtype \n",
      "---  ------       --------------  ----- \n",
      " 0   class        386 non-null    object\n",
      " 1   age          386 non-null    object\n",
      " 2   menopause    386 non-null    object\n",
      " 3   tumor-size   385 non-null    object\n",
      " 4   inv-nodes    385 non-null    object\n",
      " 5   node-caps    386 non-null    object\n",
      " 6   deg-malig    386 non-null    int64 \n",
      " 7   breast       386 non-null    object\n",
      " 8   breast-quad  386 non-null    object\n",
      " 9   irradiat     386 non-null    object\n",
      "dtypes: int64(1), object(9)\n",
      "memory usage: 30.3+ KB\n"
     ]
    }
   ],
   "source": [
    "data.info()\n",
    "# since all of the columns are categorical, the datatypes must be changed to \"category\" instead of \"object\", which will be done later"
   ]
  },
  {
   "cell_type": "code",
   "execution_count": 1211,
   "id": "047349e5-0315-4159-ad85-35ef3616ddd7",
   "metadata": {},
   "outputs": [
    {
     "data": {
      "text/plain": [
       "class          0\n",
       "age            0\n",
       "menopause      0\n",
       "tumor-size     1\n",
       "inv-nodes      1\n",
       "node-caps      0\n",
       "deg-malig      0\n",
       "breast         0\n",
       "breast-quad    0\n",
       "irradiat       0\n",
       "dtype: int64"
      ]
     },
     "execution_count": 1211,
     "metadata": {},
     "output_type": "execute_result"
    }
   ],
   "source": [
    "data.isnull().sum()\n",
    "# there are two columns with missing values"
   ]
  },
  {
   "cell_type": "code",
   "execution_count": 1212,
   "id": "5b01ec1e-5e75-4043-adb5-db546c2cc9e4",
   "metadata": {},
   "outputs": [],
   "source": [
    "data['tumor-size'] = data.groupby(['age'])['tumor-size'].transform(lambda x: x.fillna(x.mode()[0])) # fill missing values using mode"
   ]
  },
  {
   "cell_type": "code",
   "execution_count": 1213,
   "id": "5ac916e2-391a-4e48-ae26-a96e97deb702",
   "metadata": {},
   "outputs": [],
   "source": [
    "data['inv-nodes'] = data.groupby(['age'])['inv-nodes'].transform(lambda x: x.fillna(x.mode()[0]))"
   ]
  },
  {
   "cell_type": "code",
   "execution_count": 1214,
   "id": "b722dd53-73c8-4cec-a1f8-1afb082b2f1d",
   "metadata": {},
   "outputs": [
    {
     "data": {
      "text/plain": [
       "class          0\n",
       "age            0\n",
       "menopause      0\n",
       "tumor-size     0\n",
       "inv-nodes      0\n",
       "node-caps      0\n",
       "deg-malig      0\n",
       "breast         0\n",
       "breast-quad    0\n",
       "irradiat       0\n",
       "dtype: int64"
      ]
     },
     "execution_count": 1214,
     "metadata": {},
     "output_type": "execute_result"
    }
   ],
   "source": [
    "data.isnull().sum()\n",
    "# missing values have been filled"
   ]
  },
  {
   "cell_type": "code",
   "execution_count": 1215,
   "id": "bb0ff7e3-4145-4367-8fde-4af803689639",
   "metadata": {},
   "outputs": [
    {
     "data": {
      "text/plain": [
       "11"
      ]
     },
     "execution_count": 1215,
     "metadata": {},
     "output_type": "execute_result"
    }
   ],
   "source": [
    "data.duplicated().sum()"
   ]
  },
  {
   "cell_type": "code",
   "execution_count": 1216,
   "id": "4237d675-bdd6-4609-84d7-d902e8ca8fa7",
   "metadata": {},
   "outputs": [
    {
     "data": {
      "text/plain": [
       "0"
      ]
     },
     "execution_count": 1216,
     "metadata": {},
     "output_type": "execute_result"
    }
   ],
   "source": [
    "data.drop_duplicates(inplace=True, ignore_index=True)\n",
    "data.duplicated().sum() # duplicated values have been removed"
   ]
  },
  {
   "cell_type": "code",
   "execution_count": 1217,
   "id": "a85ae42b-7864-4050-a945-867917522d56",
   "metadata": {},
   "outputs": [
    {
     "name": "stdout",
     "output_type": "stream",
     "text": [
      "<class 'pandas.core.frame.DataFrame'>\n",
      "RangeIndex: 375 entries, 0 to 374\n",
      "Data columns (total 10 columns):\n",
      " #   Column       Non-Null Count  Dtype   \n",
      "---  ------       --------------  -----   \n",
      " 0   class        375 non-null    category\n",
      " 1   age          375 non-null    category\n",
      " 2   menopause    375 non-null    category\n",
      " 3   tumor-size   375 non-null    category\n",
      " 4   inv-nodes    375 non-null    category\n",
      " 5   node-caps    375 non-null    category\n",
      " 6   deg-malig    375 non-null    category\n",
      " 7   breast       375 non-null    category\n",
      " 8   breast-quad  375 non-null    category\n",
      " 9   irradiat     375 non-null    category\n",
      "dtypes: category(10)\n",
      "memory usage: 5.9 KB\n"
     ]
    }
   ],
   "source": [
    "data['class'] = data['class'].astype(\"category\")\n",
    "data['age'] = data['age'].astype(\"category\")\n",
    "data['menopause'] = data['menopause'].astype(\"category\")\n",
    "data['tumor-size'] = data['tumor-size'].astype(\"category\")\n",
    "data['inv-nodes'] = data['inv-nodes'].astype(\"category\")\n",
    "data['node-caps'] = data['node-caps'].astype(\"category\")\n",
    "data['deg-malig'] = data['deg-malig'].astype(\"category\")\n",
    "data['breast'] = data['breast'].astype(\"category\")\n",
    "data['breast-quad'] = data['breast-quad'].astype(\"category\")\n",
    "data['irradiat'] = data['irradiat'].astype(\"category\")\n",
    "data.info() # datatypes have been changed to categorical"
   ]
  },
  {
   "cell_type": "code",
   "execution_count": 1218,
   "id": "c4779ee6-6dd6-458b-be35-611add412d92",
   "metadata": {},
   "outputs": [
    {
     "data": {
      "text/html": [
       "<div>\n",
       "<style scoped>\n",
       "    .dataframe tbody tr th:only-of-type {\n",
       "        vertical-align: middle;\n",
       "    }\n",
       "\n",
       "    .dataframe tbody tr th {\n",
       "        vertical-align: top;\n",
       "    }\n",
       "\n",
       "    .dataframe thead th {\n",
       "        text-align: right;\n",
       "    }\n",
       "</style>\n",
       "<table border=\"1\" class=\"dataframe\">\n",
       "  <thead>\n",
       "    <tr style=\"text-align: right;\">\n",
       "      <th></th>\n",
       "      <th>class</th>\n",
       "      <th>age</th>\n",
       "      <th>menopause</th>\n",
       "      <th>tumor-size</th>\n",
       "      <th>inv-nodes</th>\n",
       "      <th>node-caps</th>\n",
       "      <th>deg-malig</th>\n",
       "      <th>breast</th>\n",
       "      <th>breast-quad</th>\n",
       "      <th>irradiat</th>\n",
       "    </tr>\n",
       "  </thead>\n",
       "  <tbody>\n",
       "    <tr>\n",
       "      <th>count</th>\n",
       "      <td>375</td>\n",
       "      <td>375</td>\n",
       "      <td>375</td>\n",
       "      <td>375</td>\n",
       "      <td>375</td>\n",
       "      <td>375</td>\n",
       "      <td>375</td>\n",
       "      <td>375</td>\n",
       "      <td>375</td>\n",
       "      <td>375</td>\n",
       "    </tr>\n",
       "    <tr>\n",
       "      <th>unique</th>\n",
       "      <td>2</td>\n",
       "      <td>6</td>\n",
       "      <td>3</td>\n",
       "      <td>11</td>\n",
       "      <td>7</td>\n",
       "      <td>4</td>\n",
       "      <td>3</td>\n",
       "      <td>2</td>\n",
       "      <td>7</td>\n",
       "      <td>2</td>\n",
       "    </tr>\n",
       "    <tr>\n",
       "      <th>top</th>\n",
       "      <td>no-recurrence-events</td>\n",
       "      <td>40-49</td>\n",
       "      <td>premeno</td>\n",
       "      <td>30-34</td>\n",
       "      <td>0-2</td>\n",
       "      <td>no</td>\n",
       "      <td>2</td>\n",
       "      <td>left</td>\n",
       "      <td>left_low</td>\n",
       "      <td>no</td>\n",
       "    </tr>\n",
       "    <tr>\n",
       "      <th>freq</th>\n",
       "      <td>254</td>\n",
       "      <td>114</td>\n",
       "      <td>211</td>\n",
       "      <td>83</td>\n",
       "      <td>234</td>\n",
       "      <td>266</td>\n",
       "      <td>161</td>\n",
       "      <td>190</td>\n",
       "      <td>137</td>\n",
       "      <td>293</td>\n",
       "    </tr>\n",
       "  </tbody>\n",
       "</table>\n",
       "</div>"
      ],
      "text/plain": [
       "                       class    age menopause tumor-size inv-nodes node-caps  \\\n",
       "count                    375    375       375        375       375       375   \n",
       "unique                     2      6         3         11         7         4   \n",
       "top     no-recurrence-events  40-49   premeno      30-34       0-2        no   \n",
       "freq                     254    114       211         83       234       266   \n",
       "\n",
       "        deg-malig breast breast-quad irradiat  \n",
       "count         375    375         375      375  \n",
       "unique          3      2           7        2  \n",
       "top             2   left    left_low       no  \n",
       "freq          161    190         137      293  "
      ]
     },
     "execution_count": 1218,
     "metadata": {},
     "output_type": "execute_result"
    }
   ],
   "source": [
    "data.describe()"
   ]
  },
  {
   "cell_type": "code",
   "execution_count": 1219,
   "id": "1701c244-fdd5-4a73-b477-effbd8817fff",
   "metadata": {},
   "outputs": [],
   "source": [
    "import seaborn as sns\n",
    "import matplotlib.pyplot as plt"
   ]
  },
  {
   "cell_type": "code",
   "execution_count": 1220,
   "id": "acd2dac9-9055-4481-ab01-230b7041c0c2",
   "metadata": {},
   "outputs": [
    {
     "data": {
      "text/plain": [
       "<function matplotlib.pyplot.show(close=None, block=None)>"
      ]
     },
     "execution_count": 1220,
     "metadata": {},
     "output_type": "execute_result"
    },
    {
     "data": {
      "image/png": "[encoded data removed]",
      "text/plain": [
       "<Figure size 640x480 with 1 Axes>"
      ]
     },
     "metadata": {},
     "output_type": "display_data"
    }
   ],
   "source": [
    "sns.countplot(x=data['deg-malig'])\n",
    "plt.xticks(ha='right')\n",
    "plt.show\n",
    "# we can see that the plot is slightly skewed left, indicating that the majority of the cancer cells are a higher grade of malignant - they are relatively abnormal"
   ]
  },
  {
   "cell_type": "code",
   "execution_count": 1221,
   "id": "da3071c7-8c89-4a13-82e2-f5a9ef020ec7",
   "metadata": {},
   "outputs": [
    {
     "data": {
      "text/plain": [
       "<Axes: xlabel='deg-malig'>"
      ]
     },
     "execution_count": 1221,
     "metadata": {},
     "output_type": "execute_result"
    },
    {
     "data": {
      "image/png": "[encoded data removed]",
      "text/plain": [
       "<Figure size 640x480 with 1 Axes>"
      ]
     },
     "metadata": {},
     "output_type": "display_data"
    }
   ],
   "source": [
    "sns.boxplot(data=data, x='deg-malig')\n",
    "# this boxplot further confirms our observations"
   ]
  },
  {
   "cell_type": "code",
   "execution_count": 1222,
   "id": "6b1206a9-d132-4662-bb47-ac107a4d61e6",
   "metadata": {},
   "outputs": [
    {
     "data": {
      "text/plain": [
       "<function matplotlib.pyplot.show(close=None, block=None)>"
      ]
     },
     "execution_count": 1222,
     "metadata": {},
     "output_type": "execute_result"
    },
    {
     "data": {
      "image/png": "[encoded data removed]",
      "text/plain": [
       "<Figure size 640x480 with 1 Axes>"
      ]
     },
     "metadata": {},
     "output_type": "display_data"
    }
   ],
   "source": [
    "sns.countplot(x=data['class'])\n",
    "plt.xticks(rotation=45, ha='right')\n",
    "plt.show\n",
    "# we can observe that no-recurrence events occurred more than twice as much as recurrence events."
   ]
  },
  {
   "cell_type": "code",
   "execution_count": 1223,
   "id": "4c3c7f4f-3276-4ff2-a075-c3baeb6c786f",
   "metadata": {},
   "outputs": [
    {
     "data": {
      "text/plain": [
       "<function matplotlib.pyplot.show(close=None, block=None)>"
      ]
     },
     "execution_count": 1223,
     "metadata": {},
     "output_type": "execute_result"
    },
    {
     "data": {
      "image/png": "[encoded data removed]",
      "text/plain": [
       "<Figure size 640x480 with 1 Axes>"
      ]
     },
     "metadata": {},
     "output_type": "display_data"
    }
   ],
   "source": [
    "sns.countplot(x=data['age'])\n",
    "plt.xticks(rotation=45, ha='right')\n",
    "plt.show\n",
    "# this plot shows that the majority of patients with breast cancer are between the ages of 40-60 years of age."
   ]
  },
  {
   "cell_type": "code",
   "execution_count": 1224,
   "id": "0c8e3d0d-4f0c-456d-9b00-023cf679ecf4",
   "metadata": {},
   "outputs": [
    {
     "data": {
      "text/plain": [
       "<function matplotlib.pyplot.show(close=None, block=None)>"
      ]
     },
     "execution_count": 1224,
     "metadata": {},
     "output_type": "execute_result"
    },
    {
     "data": {
      "image/png": "[encoded data removed]",
      "text/plain": [
       "<Figure size 640x480 with 1 Axes>"
      ]
     },
     "metadata": {},
     "output_type": "display_data"
    }
   ],
   "source": [
    "sns.countplot(x=data['menopause'])\n",
    "plt.xticks(rotation=45, ha='right')\n",
    "plt.show\n",
    "# the plot shows that the majority of patients with breast cancer are either premenopausal or above the age of 40. there are almost no cases where the patient is younger than 40 years of age."
   ]
  },
  {
   "cell_type": "code",
   "execution_count": 1225,
   "id": "09344cc8-a9ef-4da2-ab0c-37d0de0ab080",
   "metadata": {},
   "outputs": [
    {
     "data": {
      "text/plain": [
       "<function matplotlib.pyplot.show(close=None, block=None)>"
      ]
     },
     "execution_count": 1225,
     "metadata": {},
     "output_type": "execute_result"
    },
    {
     "data": {
      "image/png": "[encoded data removed]",
      "text/plain": [
       "<Figure size 640x480 with 1 Axes>"
      ]
     },
     "metadata": {},
     "output_type": "display_data"
    }
   ],
   "source": [
    "sns.countplot(x=data['tumor-size'])\n",
    "plt.xticks(rotation=45, ha='right')\n",
    "plt.show\n",
    "# we can see that the majority of observed tumor sizes are between 20-34."
   ]
  },
  {
   "cell_type": "code",
   "execution_count": 1226,
   "id": "f739863c-5387-4280-8b9c-795d443417ba",
   "metadata": {},
   "outputs": [
    {
     "data": {
      "text/plain": [
       "<function matplotlib.pyplot.show(close=None, block=None)>"
      ]
     },
     "execution_count": 1226,
     "metadata": {},
     "output_type": "execute_result"
    },
    {
     "data": {
      "image/png": "[encoded data removed]",
      "text/plain": [
       "<Figure size 640x480 with 1 Axes>"
      ]
     },
     "metadata": {},
     "output_type": "display_data"
    }
   ],
   "source": [
    "sns.countplot(x=data['inv-nodes'])\n",
    "plt.xticks(rotation=45, ha='right')\n",
    "plt.show\n",
    "# the majority of cases indicate cancer in 0-2 nodes, though some instances show a higher number of affected nodes."
   ]
  },
  {
   "cell_type": "code",
   "execution_count": 1227,
   "id": "be1a0b01-3725-45cf-b9c2-0757101de326",
   "metadata": {},
   "outputs": [
    {
     "data": {
      "text/plain": [
       "<function matplotlib.pyplot.show(close=None, block=None)>"
      ]
     },
     "execution_count": 1227,
     "metadata": {},
     "output_type": "execute_result"
    },
    {
     "data": {
      "image/png": "[encoded data removed]",
      "text/plain": [
       "<Figure size 640x480 with 1 Axes>"
      ]
     },
     "metadata": {},
     "output_type": "display_data"
    }
   ],
   "source": [
    "sns.countplot(x=data['node-caps'])\n",
    "plt.xticks(rotation=45, ha='right')\n",
    "plt.show\n",
    "# most cases show that the patient does not have node caps. there are also a few cases where the answer is unknown and is labeled by a symbol."
   ]
  },
  {
   "cell_type": "code",
   "execution_count": 1228,
   "id": "6fc09c2f-23cf-4571-9ee4-9093b86ef30d",
   "metadata": {},
   "outputs": [
    {
     "data": {
      "text/plain": [
       "<function matplotlib.pyplot.show(close=None, block=None)>"
      ]
     },
     "execution_count": 1228,
     "metadata": {},
     "output_type": "execute_result"
    },
    {
     "data": {
      "image/png": "[encoded data removed]",
      "text/plain": [
       "<Figure size 640x480 with 1 Axes>"
      ]
     },
     "metadata": {},
     "output_type": "display_data"
    }
   ],
   "source": [
    "sns.countplot(x=data['breast'])\n",
    "plt.xticks(rotation=45, ha='right')\n",
    "plt.show\n",
    "# the number of cases for the left breast and the number for the right breast are almost equal."
   ]
  },
  {
   "cell_type": "code",
   "execution_count": 1229,
   "id": "3da8783b-0c4a-4b46-b7d3-caafa790fb89",
   "metadata": {},
   "outputs": [
    {
     "data": {
      "text/plain": [
       "<function matplotlib.pyplot.show(close=None, block=None)>"
      ]
     },
     "execution_count": 1229,
     "metadata": {},
     "output_type": "execute_result"
    },
    {
     "data": {
      "image/png": "[encoded data removed]",
      "text/plain": [
       "<Figure size 640x480 with 1 Axes>"
      ]
     },
     "metadata": {},
     "output_type": "display_data"
    }
   ],
   "source": [
    "sns.countplot(x=data['breast-quad'])\n",
    "plt.xticks(rotation=45, ha='right')\n",
    "plt.show\n",
    "# the majority of cases lie within the left quadrants of the breast."
   ]
  },
  {
   "cell_type": "code",
   "execution_count": 1230,
   "id": "3af49d9d-bb8d-4f95-bcd4-69c3bea868c7",
   "metadata": {},
   "outputs": [
    {
     "data": {
      "text/plain": [
       "<function matplotlib.pyplot.show(close=None, block=None)>"
      ]
     },
     "execution_count": 1230,
     "metadata": {},
     "output_type": "execute_result"
    },
    {
     "data": {
      "image/png": "[encoded data removed]",
      "text/plain": [
       "<Figure size 640x480 with 1 Axes>"
      ]
     },
     "metadata": {},
     "output_type": "display_data"
    }
   ],
   "source": [
    "sns.countplot(x=data['irradiat'])\n",
    "plt.xticks(rotation=45, ha='right')\n",
    "plt.show\n",
    "# the plot shows that most cases have not been treated with radiation therapy."
   ]
  },
  {
   "cell_type": "code",
   "execution_count": 1231,
   "id": "71ba0071-00ec-44f0-9318-ca58b69e1533",
   "metadata": {},
   "outputs": [
    {
     "name": "stdout",
     "output_type": "stream",
     "text": [
      "<class 'pandas.core.frame.DataFrame'>\n",
      "RangeIndex: 375 entries, 0 to 374\n",
      "Data columns (total 37 columns):\n",
      " #   Column                   Non-Null Count  Dtype\n",
      "---  ------                   --------------  -----\n",
      " 0   class_recurrence-events  375 non-null    bool \n",
      " 1   age_30-39                375 non-null    bool \n",
      " 2   age_40-49                375 non-null    bool \n",
      " 3   age_50-59                375 non-null    bool \n",
      " 4   age_60-69                375 non-null    bool \n",
      " 5   age_70-79                375 non-null    bool \n",
      " 6   menopause_lt40           375 non-null    bool \n",
      " 7   menopause_premeno        375 non-null    bool \n",
      " 8   tumor-size_10-14         375 non-null    bool \n",
      " 9   tumor-size_15-19         375 non-null    bool \n",
      " 10  tumor-size_20-24         375 non-null    bool \n",
      " 11  tumor-size_25-29         375 non-null    bool \n",
      " 12  tumor-size_30-34         375 non-null    bool \n",
      " 13  tumor-size_35-39         375 non-null    bool \n",
      " 14  tumor-size_40-44         375 non-null    bool \n",
      " 15  tumor-size_45-49         375 non-null    bool \n",
      " 16  tumor-size_5-9           375 non-null    bool \n",
      " 17  tumor-size_50-54         375 non-null    bool \n",
      " 18  inv-nodes_12-14          375 non-null    bool \n",
      " 19  inv-nodes_15-17          375 non-null    bool \n",
      " 20  inv-nodes_24-26          375 non-null    bool \n",
      " 21  inv-nodes_3-5            375 non-null    bool \n",
      " 22  inv-nodes_6-8            375 non-null    bool \n",
      " 23  inv-nodes_9-11           375 non-null    bool \n",
      " 24  deg-malig_2              375 non-null    bool \n",
      " 25  deg-malig_3              375 non-null    bool \n",
      " 26  node-caps_?              375 non-null    bool \n",
      " 27  node-caps_no             375 non-null    bool \n",
      " 28  node-caps_yes            375 non-null    bool \n",
      " 29  breast_right             375 non-null    bool \n",
      " 30  breast-quad_?            375 non-null    bool \n",
      " 31  breast-quad_central      375 non-null    bool \n",
      " 32  breast-quad_left_low     375 non-null    bool \n",
      " 33  breast-quad_left_up      375 non-null    bool \n",
      " 34  breast-quad_right_low    375 non-null    bool \n",
      " 35  breast-quad_right_up     375 non-null    bool \n",
      " 36  irradiat_yes             375 non-null    bool \n",
      "dtypes: bool(37)\n",
      "memory usage: 13.7 KB\n"
     ]
    }
   ],
   "source": [
    "data = pd.get_dummies(data, columns=[\"class\"], drop_first=True)\n",
    "data = pd.get_dummies(data, columns=[\"age\"], drop_first=True)\n",
    "data = pd.get_dummies(data, columns=[\"menopause\"], drop_first=True)\n",
    "data = pd.get_dummies(data, columns=[\"tumor-size\"], drop_first=True)\n",
    "data = pd.get_dummies(data, columns=[\"inv-nodes\"], drop_first=True)\n",
    "data = pd.get_dummies(data, columns=[\"deg-malig\"], drop_first=True)\n",
    "data = pd.get_dummies(data, columns=[\"node-caps\"], drop_first=True)\n",
    "data = pd.get_dummies(data, columns=[\"breast\"], drop_first=True)\n",
    "data = pd.get_dummies(data, columns=[\"breast-quad\"], drop_first=True)\n",
    "data = pd.get_dummies(data, columns=[\"irradiat\"], drop_first=True)\n",
    "\n",
    "data.info()\n",
    "\n",
    "# used one-hot encoding to prepare the variables for training"
   ]
  },
  {
   "cell_type": "code",
   "execution_count": 1232,
   "id": "c18cbfe9-dc6b-4931-9955-d06caa1a77c2",
   "metadata": {},
   "outputs": [
    {
     "name": "stdout",
     "output_type": "stream",
     "text": [
      "Index(['class_recurrence-events', 'age_30-39', 'age_40-49', 'age_50-59',\n",
      "       'age_60-69', 'age_70-79', 'menopause_lt40', 'menopause_premeno',\n",
      "       'tumor-size_10-14', 'tumor-size_15-19', 'tumor-size_20-24',\n",
      "       'tumor-size_25-29', 'tumor-size_30-34', 'tumor-size_35-39',\n",
      "       'tumor-size_40-44', 'tumor-size_45-49', 'tumor-size_5-9',\n",
      "       'tumor-size_50-54', 'inv-nodes_12-14', 'inv-nodes_15-17',\n",
      "       'inv-nodes_24-26', 'inv-nodes_3-5', 'inv-nodes_6-8', 'inv-nodes_9-11',\n",
      "       'deg-malig_2', 'deg-malig_3', 'node-caps_?', 'node-caps_no',\n",
      "       'node-caps_yes', 'breast_right', 'breast-quad_?', 'breast-quad_central',\n",
      "       'breast-quad_left_low', 'breast-quad_left_up', 'breast-quad_right_low',\n",
      "       'breast-quad_right_up', 'irradiat_yes'],\n",
      "      dtype='object')\n"
     ]
    }
   ],
   "source": [
    "print(data.columns)"
   ]
  },
  {
   "cell_type": "code",
   "execution_count": 1233,
   "id": "5babf9e5-fe64-4556-800b-c4ae96ceeff7",
   "metadata": {},
   "outputs": [],
   "source": [
    "from sklearn.model_selection import train_test_split\n",
    "X = data.drop('class_recurrence-events',axis=1)\n",
    "y = data['class_recurrence-events']\n",
    "X_train, X_test, y_train, y_test = train_test_split(X, y, test_size=0.3, stratify=y, random_state=1)"
   ]
  },
  {
   "cell_type": "code",
   "execution_count": 1234,
   "id": "dfa16ed4-e8bb-4b63-8b6e-37153122ddd7",
   "metadata": {},
   "outputs": [
    {
     "data": {
      "text/html": [
       "<style>#sk-container-id-58 {color: black;}#sk-container-id-58 pre{padding: 0;}#sk-container-id-58 div.sk-toggleable {background-color: white;}#sk-container-id-58 label.sk-toggleable__label {cursor: pointer;display: block;width: 100%;margin-bottom: 0;padding: 0.3em;box-sizing: border-box;text-align: center;}#sk-container-id-58 label.sk-toggleable__label-arrow:before {content: \"▸\";float: left;margin-right: 0.25em;color: #696969;}#sk-container-id-58 label.sk-toggleable__label-arrow:hover:before {color: black;}#sk-container-id-58 div.sk-estimator:hover label.sk-toggleable__label-arrow:before {color: black;}#sk-container-id-58 div.sk-toggleable__content {max-height: 0;max-width: 0;overflow: hidden;text-align: left;background-color: #f0f8ff;}#sk-container-id-58 div.sk-toggleable__content pre {margin: 0.2em;color: black;border-radius: 0.25em;background-color: #f0f8ff;}#sk-container-id-58 input.sk-toggleable__control:checked~div.sk-toggleable__content {max-height: 200px;max-width: 100%;overflow: auto;}#sk-container-id-58 input.sk-toggleable__control:checked~label.sk-toggleable__label-arrow:before {content: \"▾\";}#sk-container-id-58 div.sk-estimator input.sk-toggleable__control:checked~label.sk-toggleable__label {background-color: #d4ebff;}#sk-container-id-58 div.sk-label input.sk-toggleable__control:checked~label.sk-toggleable__label {background-color: #d4ebff;}#sk-container-id-58 input.sk-hidden--visually {border: 0;clip: rect(1px 1px 1px 1px);clip: rect(1px, 1px, 1px, 1px);height: 1px;margin: -1px;overflow: hidden;padding: 0;position: absolute;width: 1px;}#sk-container-id-58 div.sk-estimator {font-family: monospace;background-color: #f0f8ff;border: 1px dotted black;border-radius: 0.25em;box-sizing: border-box;margin-bottom: 0.5em;}#sk-container-id-58 div.sk-estimator:hover {background-color: #d4ebff;}#sk-container-id-58 div.sk-parallel-item::after {content: \"\";width: 100%;border-bottom: 1px solid gray;flex-grow: 1;}#sk-container-id-58 div.sk-label:hover label.sk-toggleable__label {background-color: #d4ebff;}#sk-container-id-58 div.sk-serial::before {content: \"\";position: absolute;border-left: 1px solid gray;box-sizing: border-box;top: 0;bottom: 0;left: 50%;z-index: 0;}#sk-container-id-58 div.sk-serial {display: flex;flex-direction: column;align-items: center;background-color: white;padding-right: 0.2em;padding-left: 0.2em;position: relative;}#sk-container-id-58 div.sk-item {position: relative;z-index: 1;}#sk-container-id-58 div.sk-parallel {display: flex;align-items: stretch;justify-content: center;background-color: white;position: relative;}#sk-container-id-58 div.sk-item::before, #sk-container-id-58 div.sk-parallel-item::before {content: \"\";position: absolute;border-left: 1px solid gray;box-sizing: border-box;top: 0;bottom: 0;left: 50%;z-index: -1;}#sk-container-id-58 div.sk-parallel-item {display: flex;flex-direction: column;z-index: 1;position: relative;background-color: white;}#sk-container-id-58 div.sk-parallel-item:first-child::after {align-self: flex-end;width: 50%;}#sk-container-id-58 div.sk-parallel-item:last-child::after {align-self: flex-start;width: 50%;}#sk-container-id-58 div.sk-parallel-item:only-child::after {width: 0;}#sk-container-id-58 div.sk-dashed-wrapped {border: 1px dashed gray;margin: 0 0.4em 0.5em 0.4em;box-sizing: border-box;padding-bottom: 0.4em;background-color: white;}#sk-container-id-58 div.sk-label label {font-family: monospace;font-weight: bold;display: inline-block;line-height: 1.2em;}#sk-container-id-58 div.sk-label-container {text-align: center;}#sk-container-id-58 div.sk-container {/* jupyter's `normalize.less` sets `[hidden] { display: none; }` but bootstrap.min.css set `[hidden] { display: none !important; }` so we also need the `!important` here to be able to override the default hidden behavior on the sphinx rendered scikit-learn.org. See: https://github.com/scikit-learn/scikit-learn/issues/21755 */display: inline-block !important;position: relative;}#sk-container-id-58 div.sk-text-repr-fallback {display: none;}</style><div id=\"sk-container-id-58\" class=\"sk-top-container\"><div class=\"sk-text-repr-fallback\"><pre>SGDClassifier(alpha=0.01, loss=&#x27;perceptron&#x27;)</pre><b>In a Jupyter environment, please rerun this cell to show the HTML representation or trust the notebook. <br />On GitHub, the HTML representation is unable to render, please try loading this page with nbviewer.org.</b></div><div class=\"sk-container\" hidden><div class=\"sk-item\"><div class=\"sk-estimator sk-toggleable\"><input class=\"sk-toggleable__control sk-hidden--visually\" id=\"sk-estimator-id-106\" type=\"checkbox\" checked><label for=\"sk-estimator-id-106\" class=\"sk-toggleable__label sk-toggleable__label-arrow\">SGDClassifier</label><div class=\"sk-toggleable__content\"><pre>SGDClassifier(alpha=0.01, loss=&#x27;perceptron&#x27;)</pre></div></div></div></div></div>"
      ],
      "text/plain": [
       "SGDClassifier(alpha=0.01, loss='perceptron')"
      ]
     },
     "execution_count": 1234,
     "metadata": {},
     "output_type": "execute_result"
    }
   ],
   "source": [
    "# Linear classifier\n",
    "\n",
    "from sklearn.linear_model import SGDClassifier\n",
    "clf = SGDClassifier(loss=\"perceptron\", alpha=0.01)\n",
    "clf.fit(X_train, y_train)"
   ]
  },
  {
   "cell_type": "code",
   "execution_count": 1235,
   "id": "71b35d18-bc8f-4053-b6f6-0c1d7a0bb76c",
   "metadata": {},
   "outputs": [
    {
     "name": "stdout",
     "output_type": "stream",
     "text": [
      "Accuracy on test data: 0.50\n",
      "Accuracy on train data: 0.61\n",
      "Recall on test: 0.61, Recall on train: 0.67\n",
      "Precision on test: 0.34, Precision on train: 0.43\n",
      "F1-score on test: 0.44, F1-score on train: 0.53\n"
     ]
    }
   ],
   "source": [
    "accuracy_test = accuracy_score(y_test, clf.predict(X_test))\n",
    "accuracy_train = accuracy_score(y_train, clf.predict(X_train))\n",
    "recall_test = recall_score(y_test, clf.predict(X_test))\n",
    "recall_train = recall_score(y_train, clf.predict(X_train))\n",
    "precision_test = precision_score(y_test, clf.predict(X_test))\n",
    "precision_train = precision_score(y_train, clf.predict(X_train))\n",
    "f1_test = f1_score(y_test, clf.predict(X_test))\n",
    "f1_train = f1_score(y_train, clf.predict(X_train))\n",
    "\n",
    "print(f'Accuracy on test data: {accuracy_test:.2f}')\n",
    "print(f'Accuracy on train data: {accuracy_train:.2f}')\n",
    "print(f'Recall on test: {recall_test:.2f}, Recall on train: {recall_train:.2f}')\n",
    "print(f'Precision on test: {precision_test:.2f}, Precision on train: {precision_train:.2f}')\n",
    "print(f'F1-score on test: {f1_test:.2f}, F1-score on train: {f1_train:.2f}')"
   ]
  },
  {
   "cell_type": "code",
   "execution_count": 1236,
   "id": "1cc47ba8-b02d-4945-a88b-6f1f5d7efc98",
   "metadata": {},
   "outputs": [
    {
     "data": {
      "text/html": [
       "<style>#sk-container-id-59 {color: black;}#sk-container-id-59 pre{padding: 0;}#sk-container-id-59 div.sk-toggleable {background-color: white;}#sk-container-id-59 label.sk-toggleable__label {cursor: pointer;display: block;width: 100%;margin-bottom: 0;padding: 0.3em;box-sizing: border-box;text-align: center;}#sk-container-id-59 label.sk-toggleable__label-arrow:before {content: \"▸\";float: left;margin-right: 0.25em;color: #696969;}#sk-container-id-59 label.sk-toggleable__label-arrow:hover:before {color: black;}#sk-container-id-59 div.sk-estimator:hover label.sk-toggleable__label-arrow:before {color: black;}#sk-container-id-59 div.sk-toggleable__content {max-height: 0;max-width: 0;overflow: hidden;text-align: left;background-color: #f0f8ff;}#sk-container-id-59 div.sk-toggleable__content pre {margin: 0.2em;color: black;border-radius: 0.25em;background-color: #f0f8ff;}#sk-container-id-59 input.sk-toggleable__control:checked~div.sk-toggleable__content {max-height: 200px;max-width: 100%;overflow: auto;}#sk-container-id-59 input.sk-toggleable__control:checked~label.sk-toggleable__label-arrow:before {content: \"▾\";}#sk-container-id-59 div.sk-estimator input.sk-toggleable__control:checked~label.sk-toggleable__label {background-color: #d4ebff;}#sk-container-id-59 div.sk-label input.sk-toggleable__control:checked~label.sk-toggleable__label {background-color: #d4ebff;}#sk-container-id-59 input.sk-hidden--visually {border: 0;clip: rect(1px 1px 1px 1px);clip: rect(1px, 1px, 1px, 1px);height: 1px;margin: -1px;overflow: hidden;padding: 0;position: absolute;width: 1px;}#sk-container-id-59 div.sk-estimator {font-family: monospace;background-color: #f0f8ff;border: 1px dotted black;border-radius: 0.25em;box-sizing: border-box;margin-bottom: 0.5em;}#sk-container-id-59 div.sk-estimator:hover {background-color: #d4ebff;}#sk-container-id-59 div.sk-parallel-item::after {content: \"\";width: 100%;border-bottom: 1px solid gray;flex-grow: 1;}#sk-container-id-59 div.sk-label:hover label.sk-toggleable__label {background-color: #d4ebff;}#sk-container-id-59 div.sk-serial::before {content: \"\";position: absolute;border-left: 1px solid gray;box-sizing: border-box;top: 0;bottom: 0;left: 50%;z-index: 0;}#sk-container-id-59 div.sk-serial {display: flex;flex-direction: column;align-items: center;background-color: white;padding-right: 0.2em;padding-left: 0.2em;position: relative;}#sk-container-id-59 div.sk-item {position: relative;z-index: 1;}#sk-container-id-59 div.sk-parallel {display: flex;align-items: stretch;justify-content: center;background-color: white;position: relative;}#sk-container-id-59 div.sk-item::before, #sk-container-id-59 div.sk-parallel-item::before {content: \"\";position: absolute;border-left: 1px solid gray;box-sizing: border-box;top: 0;bottom: 0;left: 50%;z-index: -1;}#sk-container-id-59 div.sk-parallel-item {display: flex;flex-direction: column;z-index: 1;position: relative;background-color: white;}#sk-container-id-59 div.sk-parallel-item:first-child::after {align-self: flex-end;width: 50%;}#sk-container-id-59 div.sk-parallel-item:last-child::after {align-self: flex-start;width: 50%;}#sk-container-id-59 div.sk-parallel-item:only-child::after {width: 0;}#sk-container-id-59 div.sk-dashed-wrapped {border: 1px dashed gray;margin: 0 0.4em 0.5em 0.4em;box-sizing: border-box;padding-bottom: 0.4em;background-color: white;}#sk-container-id-59 div.sk-label label {font-family: monospace;font-weight: bold;display: inline-block;line-height: 1.2em;}#sk-container-id-59 div.sk-label-container {text-align: center;}#sk-container-id-59 div.sk-container {/* jupyter's `normalize.less` sets `[hidden] { display: none; }` but bootstrap.min.css set `[hidden] { display: none !important; }` so we also need the `!important` here to be able to override the default hidden behavior on the sphinx rendered scikit-learn.org. See: https://github.com/scikit-learn/scikit-learn/issues/21755 */display: inline-block !important;position: relative;}#sk-container-id-59 div.sk-text-repr-fallback {display: none;}</style><div id=\"sk-container-id-59\" class=\"sk-top-container\"><div class=\"sk-text-repr-fallback\"><pre>KNeighborsClassifier(n_neighbors=3)</pre><b>In a Jupyter environment, please rerun this cell to show the HTML representation or trust the notebook. <br />On GitHub, the HTML representation is unable to render, please try loading this page with nbviewer.org.</b></div><div class=\"sk-container\" hidden><div class=\"sk-item\"><div class=\"sk-estimator sk-toggleable\"><input class=\"sk-toggleable__control sk-hidden--visually\" id=\"sk-estimator-id-107\" type=\"checkbox\" checked><label for=\"sk-estimator-id-107\" class=\"sk-toggleable__label sk-toggleable__label-arrow\">KNeighborsClassifier</label><div class=\"sk-toggleable__content\"><pre>KNeighborsClassifier(n_neighbors=3)</pre></div></div></div></div></div>"
      ],
      "text/plain": [
       "KNeighborsClassifier(n_neighbors=3)"
      ]
     },
     "execution_count": 1236,
     "metadata": {},
     "output_type": "execute_result"
    }
   ],
   "source": [
    "# K-Nearest Neighbor Classifier\n",
    "\n",
    "from sklearn.neighbors import KNeighborsClassifier\n",
    "\n",
    "# instantiate the model\n",
    "knn = KNeighborsClassifier(n_neighbors=3)\n",
    "\n",
    "# fit the model to the training set\n",
    "knn.fit(X_train, y_train)"
   ]
  },
  {
   "cell_type": "code",
   "execution_count": 1237,
   "id": "679e9cc9-c106-498c-81c3-6c7d9c87548c",
   "metadata": {},
   "outputs": [
    {
     "name": "stdout",
     "output_type": "stream",
     "text": [
      "Accuracy of KNN on test data: 0.62\n",
      "Accuracy of KNN on train data: 0.77\n",
      "Recall on test: 0.28, Recall on train: 0.49\n",
      "Precision on test: 0.37, Precision on train: 0.71\n",
      "F1-score on test: 0.32, F1-score on train: 0.58\n"
     ]
    }
   ],
   "source": [
    "accuracy_test = accuracy_score(y_test, knn.predict(X_test))\n",
    "accuracy_train = accuracy_score(y_train, knn.predict(X_train))\n",
    "recall_test = recall_score(y_test, knn.predict(X_test))\n",
    "recall_train = recall_score(y_train, knn.predict(X_train))\n",
    "precision_test = precision_score(y_test, knn.predict(X_test))\n",
    "precision_train = precision_score(y_train, knn.predict(X_train))\n",
    "f1_test = f1_score(y_test, knn.predict(X_test))\n",
    "f1_train = f1_score(y_train, knn.predict(X_train))\n",
    "\n",
    "print(f'Accuracy of KNN on test data: {accuracy_test:.2f}')\n",
    "print(f'Accuracy of KNN on train data: {accuracy_train:.2f}')\n",
    "print(f'Recall on test: {recall_test:.2f}, Recall on train: {recall_train:.2f}')\n",
    "print(f'Precision on test: {precision_test:.2f}, Precision on train: {precision_train:.2f}')\n",
    "print(f'F1-score on test: {f1_test:.2f}, F1-score on train: {f1_train:.2f}')"
   ]
  },
  {
   "cell_type": "code",
   "execution_count": 1238,
   "id": "7aebe307-cd37-452e-9d17-e3f1b2882eb1",
   "metadata": {},
   "outputs": [],
   "source": [
    "import numpy as np\n",
    "knn_search_accuracy = KNeighborsClassifier()\n",
    "param_grid = {\"n_neighbors\": np.arange(1, 100)}"
   ]
  },
  {
   "cell_type": "code",
   "execution_count": 1239,
   "id": "e002a4b6-6c99-48ba-b2aa-5a87f257286f",
   "metadata": {},
   "outputs": [],
   "source": [
    "# K-Nearest Neighbor Classifier using Grid search CV\n",
    "\n",
    "from sklearn.model_selection import GridSearchCV\n",
    "knn_gscv = GridSearchCV(knn_search_accuracy, param_grid, cv=5)"
   ]
  },
  {
   "cell_type": "code",
   "execution_count": 1240,
   "id": "20008e3b-10f1-4e32-bab7-690bbaf4dc54",
   "metadata": {},
   "outputs": [
    {
     "data": {
      "text/html": [
       "<style>#sk-container-id-60 {color: black;}#sk-container-id-60 pre{padding: 0;}#sk-container-id-60 div.sk-toggleable {background-color: white;}#sk-container-id-60 label.sk-toggleable__label {cursor: pointer;display: block;width: 100%;margin-bottom: 0;padding: 0.3em;box-sizing: border-box;text-align: center;}#sk-container-id-60 label.sk-toggleable__label-arrow:before {content: \"▸\";float: left;margin-right: 0.25em;color: #696969;}#sk-container-id-60 label.sk-toggleable__label-arrow:hover:before {color: black;}#sk-container-id-60 div.sk-estimator:hover label.sk-toggleable__label-arrow:before {color: black;}#sk-container-id-60 div.sk-toggleable__content {max-height: 0;max-width: 0;overflow: hidden;text-align: left;background-color: #f0f8ff;}#sk-container-id-60 div.sk-toggleable__content pre {margin: 0.2em;color: black;border-radius: 0.25em;background-color: #f0f8ff;}#sk-container-id-60 input.sk-toggleable__control:checked~div.sk-toggleable__content {max-height: 200px;max-width: 100%;overflow: auto;}#sk-container-id-60 input.sk-toggleable__control:checked~label.sk-toggleable__label-arrow:before {content: \"▾\";}#sk-container-id-60 div.sk-estimator input.sk-toggleable__control:checked~label.sk-toggleable__label {background-color: #d4ebff;}#sk-container-id-60 div.sk-label input.sk-toggleable__control:checked~label.sk-toggleable__label {background-color: #d4ebff;}#sk-container-id-60 input.sk-hidden--visually {border: 0;clip: rect(1px 1px 1px 1px);clip: rect(1px, 1px, 1px, 1px);height: 1px;margin: -1px;overflow: hidden;padding: 0;position: absolute;width: 1px;}#sk-container-id-60 div.sk-estimator {font-family: monospace;background-color: #f0f8ff;border: 1px dotted black;border-radius: 0.25em;box-sizing: border-box;margin-bottom: 0.5em;}#sk-container-id-60 div.sk-estimator:hover {background-color: #d4ebff;}#sk-container-id-60 div.sk-parallel-item::after {content: \"\";width: 100%;border-bottom: 1px solid gray;flex-grow: 1;}#sk-container-id-60 div.sk-label:hover label.sk-toggleable__label {background-color: #d4ebff;}#sk-container-id-60 div.sk-serial::before {content: \"\";position: absolute;border-left: 1px solid gray;box-sizing: border-box;top: 0;bottom: 0;left: 50%;z-index: 0;}#sk-container-id-60 div.sk-serial {display: flex;flex-direction: column;align-items: center;background-color: white;padding-right: 0.2em;padding-left: 0.2em;position: relative;}#sk-container-id-60 div.sk-item {position: relative;z-index: 1;}#sk-container-id-60 div.sk-parallel {display: flex;align-items: stretch;justify-content: center;background-color: white;position: relative;}#sk-container-id-60 div.sk-item::before, #sk-container-id-60 div.sk-parallel-item::before {content: \"\";position: absolute;border-left: 1px solid gray;box-sizing: border-box;top: 0;bottom: 0;left: 50%;z-index: -1;}#sk-container-id-60 div.sk-parallel-item {display: flex;flex-direction: column;z-index: 1;position: relative;background-color: white;}#sk-container-id-60 div.sk-parallel-item:first-child::after {align-self: flex-end;width: 50%;}#sk-container-id-60 div.sk-parallel-item:last-child::after {align-self: flex-start;width: 50%;}#sk-container-id-60 div.sk-parallel-item:only-child::after {width: 0;}#sk-container-id-60 div.sk-dashed-wrapped {border: 1px dashed gray;margin: 0 0.4em 0.5em 0.4em;box-sizing: border-box;padding-bottom: 0.4em;background-color: white;}#sk-container-id-60 div.sk-label label {font-family: monospace;font-weight: bold;display: inline-block;line-height: 1.2em;}#sk-container-id-60 div.sk-label-container {text-align: center;}#sk-container-id-60 div.sk-container {/* jupyter's `normalize.less` sets `[hidden] { display: none; }` but bootstrap.min.css set `[hidden] { display: none !important; }` so we also need the `!important` here to be able to override the default hidden behavior on the sphinx rendered scikit-learn.org. See: https://github.com/scikit-learn/scikit-learn/issues/21755 */display: inline-block !important;position: relative;}#sk-container-id-60 div.sk-text-repr-fallback {display: none;}</style><div id=\"sk-container-id-60\" class=\"sk-top-container\"><div class=\"sk-text-repr-fallback\"><pre>GridSearchCV(cv=5, estimator=KNeighborsClassifier(),\n",
       "             param_grid={&#x27;n_neighbors&#x27;: array([ 1,  2,  3,  4,  5,  6,  7,  8,  9, 10, 11, 12, 13, 14, 15, 16, 17,\n",
       "       18, 19, 20, 21, 22, 23, 24, 25, 26, 27, 28, 29, 30, 31, 32, 33, 34,\n",
       "       35, 36, 37, 38, 39, 40, 41, 42, 43, 44, 45, 46, 47, 48, 49, 50, 51,\n",
       "       52, 53, 54, 55, 56, 57, 58, 59, 60, 61, 62, 63, 64, 65, 66, 67, 68,\n",
       "       69, 70, 71, 72, 73, 74, 75, 76, 77, 78, 79, 80, 81, 82, 83, 84, 85,\n",
       "       86, 87, 88, 89, 90, 91, 92, 93, 94, 95, 96, 97, 98, 99])})</pre><b>In a Jupyter environment, please rerun this cell to show the HTML representation or trust the notebook. <br />On GitHub, the HTML representation is unable to render, please try loading this page with nbviewer.org.</b></div><div class=\"sk-container\" hidden><div class=\"sk-item sk-dashed-wrapped\"><div class=\"sk-label-container\"><div class=\"sk-label sk-toggleable\"><input class=\"sk-toggleable__control sk-hidden--visually\" id=\"sk-estimator-id-108\" type=\"checkbox\" ><label for=\"sk-estimator-id-108\" class=\"sk-toggleable__label sk-toggleable__label-arrow\">GridSearchCV</label><div class=\"sk-toggleable__content\"><pre>GridSearchCV(cv=5, estimator=KNeighborsClassifier(),\n",
       "             param_grid={&#x27;n_neighbors&#x27;: array([ 1,  2,  3,  4,  5,  6,  7,  8,  9, 10, 11, 12, 13, 14, 15, 16, 17,\n",
       "       18, 19, 20, 21, 22, 23, 24, 25, 26, 27, 28, 29, 30, 31, 32, 33, 34,\n",
       "       35, 36, 37, 38, 39, 40, 41, 42, 43, 44, 45, 46, 47, 48, 49, 50, 51,\n",
       "       52, 53, 54, 55, 56, 57, 58, 59, 60, 61, 62, 63, 64, 65, 66, 67, 68,\n",
       "       69, 70, 71, 72, 73, 74, 75, 76, 77, 78, 79, 80, 81, 82, 83, 84, 85,\n",
       "       86, 87, 88, 89, 90, 91, 92, 93, 94, 95, 96, 97, 98, 99])})</pre></div></div></div><div class=\"sk-parallel\"><div class=\"sk-parallel-item\"><div class=\"sk-item\"><div class=\"sk-label-container\"><div class=\"sk-label sk-toggleable\"><input class=\"sk-toggleable__control sk-hidden--visually\" id=\"sk-estimator-id-109\" type=\"checkbox\" ><label for=\"sk-estimator-id-109\" class=\"sk-toggleable__label sk-toggleable__label-arrow\">estimator: KNeighborsClassifier</label><div class=\"sk-toggleable__content\"><pre>KNeighborsClassifier()</pre></div></div></div><div class=\"sk-serial\"><div class=\"sk-item\"><div class=\"sk-estimator sk-toggleable\"><input class=\"sk-toggleable__control sk-hidden--visually\" id=\"sk-estimator-id-110\" type=\"checkbox\" ><label for=\"sk-estimator-id-110\" class=\"sk-toggleable__label sk-toggleable__label-arrow\">KNeighborsClassifier</label><div class=\"sk-toggleable__content\"><pre>KNeighborsClassifier()</pre></div></div></div></div></div></div></div></div></div></div>"
      ],
      "text/plain": [
       "GridSearchCV(cv=5, estimator=KNeighborsClassifier(),\n",
       "             param_grid={'n_neighbors': array([ 1,  2,  3,  4,  5,  6,  7,  8,  9, 10, 11, 12, 13, 14, 15, 16, 17,\n",
       "       18, 19, 20, 21, 22, 23, 24, 25, 26, 27, 28, 29, 30, 31, 32, 33, 34,\n",
       "       35, 36, 37, 38, 39, 40, 41, 42, 43, 44, 45, 46, 47, 48, 49, 50, 51,\n",
       "       52, 53, 54, 55, 56, 57, 58, 59, 60, 61, 62, 63, 64, 65, 66, 67, 68,\n",
       "       69, 70, 71, 72, 73, 74, 75, 76, 77, 78, 79, 80, 81, 82, 83, 84, 85,\n",
       "       86, 87, 88, 89, 90, 91, 92, 93, 94, 95, 96, 97, 98, 99])})"
      ]
     },
     "execution_count": 1240,
     "metadata": {},
     "output_type": "execute_result"
    }
   ],
   "source": [
    "knn_gscv.fit(X_train, y_train)"
   ]
  },
  {
   "cell_type": "code",
   "execution_count": 1241,
   "id": "f2a1ac92-eba4-4c43-a7bb-23a76b5b9190",
   "metadata": {},
   "outputs": [
    {
     "data": {
      "text/plain": [
       "{'n_neighbors': 17}"
      ]
     },
     "execution_count": 1241,
     "metadata": {},
     "output_type": "execute_result"
    }
   ],
   "source": [
    "knn_gscv.best_params_\n"
   ]
  },
  {
   "cell_type": "code",
   "execution_count": 1242,
   "id": "266050e4-31bf-4ab8-ab7c-256b05eb3a66",
   "metadata": {},
   "outputs": [],
   "source": [
    "best_knn = knn_gscv.best_estimator_"
   ]
  },
  {
   "cell_type": "code",
   "execution_count": 1243,
   "id": "abfe89ca-0fc4-410d-8563-d6f1eab5281a",
   "metadata": {},
   "outputs": [
    {
     "data": {
      "text/plain": [
       "{'n_neighbors': 17}"
      ]
     },
     "execution_count": 1243,
     "metadata": {},
     "output_type": "execute_result"
    }
   ],
   "source": [
    "knn_search_recall = KNeighborsClassifier()\n",
    "param_grid = {\"n_neighbors\": np.arange(1, 100)}\n",
    "\n",
    "knn_gscv2 = GridSearchCV(knn_search_recall, param_grid, cv=5)\n",
    "\n",
    "knn_gscv2.fit(X_train, y_train)\n",
    "knn_gscv2.best_params_"
   ]
  },
  {
   "cell_type": "code",
   "execution_count": 1244,
   "id": "4e5d4be2-1810-42da-8543-1d784c336e67",
   "metadata": {},
   "outputs": [
    {
     "name": "stdout",
     "output_type": "stream",
     "text": [
      "Accuracy of optimal KNN on test data: 0.67\n",
      "Accuracy of optimal KNN on train data: 0.69\n",
      "Recall on test: 0.08, Recall on train: 0.12\n",
      "Precision on test: 0.43, Precision on train: 0.67\n",
      "F1-score on test: 0.14, F1-score on train: 0.20\n"
     ]
    }
   ],
   "source": [
    "accuracy_test = accuracy_score(y_test, best_knn.predict(X_test))\n",
    "accuracy_train = accuracy_score(y_train, best_knn.predict(X_train))\n",
    "recall_test = recall_score(y_test, best_knn.predict(X_test))\n",
    "recall_train = recall_score(y_train, best_knn.predict(X_train))\n",
    "precision_test = precision_score(y_test, best_knn.predict(X_test))\n",
    "precision_train = precision_score(y_train, best_knn.predict(X_train))\n",
    "f1_test = f1_score(y_test, best_knn.predict(X_test))\n",
    "f1_train = f1_score(y_train, best_knn.predict(X_train))\n",
    "\n",
    "print(f'Accuracy of optimal KNN on test data: {accuracy_test:.2f}')\n",
    "print(f'Accuracy of optimal KNN on train data: {accuracy_train:.2f}')\n",
    "print(f'Recall on test: {recall_test:.2f}, Recall on train: {recall_train:.2f}')\n",
    "print(f'Precision on test: {precision_test:.2f}, Precision on train: {precision_train:.2f}')\n",
    "print(f'F1-score on test: {f1_test:.2f}, F1-score on train: {f1_train:.2f}')"
   ]
  },
  {
   "cell_type": "code",
   "execution_count": 1245,
   "id": "c263f7a0-b0ef-4a50-9c69-8d1eb2e3ea9f",
   "metadata": {},
   "outputs": [],
   "source": [
    "# The most important metric for this problem is recall because it is primarily impacted by false negatives which can be fatal in cases involving cancer.\n",
    "# While false positives (precision) may lead to unnecessary concern and further testing, they do not pose a direct risk to the patient's life."
   ]
  }
 ],
 "metadata": {
  "kernelspec": {
   "display_name": "Python 3 (ipykernel)",
   "language": "python",
   "name": "python3"
  },
  "language_info": {
   "codemirror_mode": {
    "name": "ipython",
    "version": 3
   },
   "file_extension": ".py",
   "mimetype": "text/x-python",
   "name": "python",
   "nbconvert_exporter": "python",
   "pygments_lexer": "ipython3",
   "version": "3.11.1"
  }
 },
 "nbformat": 4,
 "nbformat_minor": 5
}
